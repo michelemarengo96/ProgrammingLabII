{
 "cells": [
  {
   "cell_type": "markdown",
   "metadata": {},
   "source": [
    "### **1.Consumo di alcol per paese** \n",
    "Esegui un’**analisi esplorativa** focalizzata sul **consumo di alcol**.  \n",
    "Analizza i seguenti aspetti:\n",
    "* Visualizza i primi 10 paesi ordinati per total_litres_of_pure_alcohol (dal più alto)\n",
    "\n",
    "* Calcola la media del consumo di birra, vino, e distillati\n",
    "\n",
    "* Crea una nuova colonna alcohol_index che sia: `(beer_servings + wine_servings + spirit_servings) / 3`\n",
    "\n",
    "* Trova il paese con il valore massimo di alcohol_index\n",
    "\n",
    "* Filtra solo i paesi che consumano più di 100 birre all’anno\n",
    "\n",
    "Crea un bar chart dei 10 paesi con più consumo totale (total_litres_of_pure_alcohol)\n",
    "\n",
    "Crea un line plot con wine_servings ordinato per paese (usa sort_values)"
   ]
  },
  {
   "cell_type": "code",
   "execution_count": null,
   "metadata": {},
   "outputs": [],
   "source": [
    "import pandas as pd\n",
    "\n",
    "df = pd.read_csv(\"https://raw.githubusercontent.com/fivethirtyeight/data/master/alcohol-consumption/drinks.csv\")\n"
   ]
  },
  {
   "cell_type": "markdown",
   "metadata": {},
   "source": [
    "### **2.Analisi offerte di lavoro** \n",
    "\n",
    "Esegui un’**analisi esplorativa** focalizzata sui **lavori nel campo dei dati in ciascun paese**.  \n",
    "Analizza i seguenti aspetti per ogni paese:\n",
    "\n",
    "* Lo **stipendio medio annuale** (`salary_year_avg`)\n",
    "* Il **numero totale di offerte di lavoro** (job count)\n",
    "* L’intervallo degli stipendi: **valore minimo e massimo** (`min` / `max`)\n",
    "\n",
    "Rappresenta graficamente lo stipendio medio (`salary_year_avg`) per `job_title_short` usando un grafico a barre orizzontali. Ordina i dati dallo stipendio più alto al più basso. Includi un titolo e le etichette per gli assi x e y."
   ]
  },
  {
   "cell_type": "code",
   "execution_count": null,
   "metadata": {},
   "outputs": [],
   "source": [
    "import pandas as pd\n",
    "from datasets import load_dataset\n",
    "\n",
    "dataset = load_dataset('lukebarousse/data_jobs')\n",
    "df = dataset['train'].to_pandas()\n",
    "\n",
    "df['job_posted_date'] = pd.to_datetime(df['job_posted_date'])"
   ]
  }
 ],
 "metadata": {
  "kernelspec": {
   "display_name": "labPython",
   "language": "python",
   "name": "python3"
  },
  "language_info": {
   "codemirror_mode": {
    "name": "ipython",
    "version": 3
   },
   "file_extension": ".py",
   "mimetype": "text/x-python",
   "name": "python",
   "nbconvert_exporter": "python",
   "pygments_lexer": "ipython3",
   "version": "3.12.7"
  }
 },
 "nbformat": 4,
 "nbformat_minor": 2
}
